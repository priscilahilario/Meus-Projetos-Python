{
  "nbformat": 4,
  "nbformat_minor": 0,
  "metadata": {
    "colab": {
      "provenance": [],
      "authorship_tag": "ABX9TyMrryhNRQSIec7VfWzPex71",
      "include_colab_link": true
    },
    "kernelspec": {
      "name": "python3",
      "display_name": "Python 3"
    },
    "language_info": {
      "name": "python"
    }
  },
  "cells": [
    {
      "cell_type": "markdown",
      "metadata": {
        "id": "view-in-github",
        "colab_type": "text"
      },
      "source": [
        "<a href=\"https://colab.research.google.com/github/priscilahilario/Meus-Projetos-Python/blob/main/Desenvolvimento%203%20%23109821.ipynb\" target=\"_parent\"><img src=\"https://colab.research.google.com/assets/colab-badge.svg\" alt=\"Open In Colab\"/></a>"
      ]
    },
    {
      "cell_type": "code",
      "source": [
        "from os import remove\n",
        "def andares_predio(andares):\n",
        "  andares = 0\n",
        "  for i in range (0,21):\n",
        "    i = i+1\n",
        "    if andares[i] == 13:\n",
        "      andares_predio.remove(13)\n",
        "      print(\"i\",andares)\n"
      ],
      "metadata": {
        "id": "ag--o_xks8Fq"
      },
      "execution_count": 63,
      "outputs": []
    },
    {
      "cell_type": "code",
      "source": [
        "def andares_predio (andar):\n",
        "  i = 0\n",
        "  while 0 < 21:\n",
        "    i=-1\n",
        "  if i == 13:\n",
        "    andares_predio.remove(13)\n",
        "    print(\"Os andares são: \", andares)\n",
        "\n",
        "\n",
        "\n",
        "\n",
        "\n",
        ""
      ],
      "metadata": {
        "id": "Sf8FswgWw7VS"
      },
      "execution_count": 74,
      "outputs": []
    }
  ]
}