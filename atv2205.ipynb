{
  "nbformat": 4,
  "nbformat_minor": 0,
  "metadata": {
    "colab": {
      "provenance": [],
      "include_colab_link": true
    },
    "kernelspec": {
      "name": "python3",
      "display_name": "Python 3"
    },
    "language_info": {
      "name": "python"
    }
  },
  "cells": [
    {
      "cell_type": "markdown",
      "metadata": {
        "id": "view-in-github",
        "colab_type": "text"
      },
      "source": [
        "<a href=\"https://colab.research.google.com/github/priscilahilario/Meus-Projetos-Python/blob/main/atv2205.ipynb\" target=\"_parent\"><img src=\"https://colab.research.google.com/assets/colab-badge.svg\" alt=\"Open In Colab\"/></a>"
      ]
    },
    {
      "cell_type": "markdown",
      "source": [
        "##Função"
      ],
      "metadata": {
        "id": "xzt18zkceQP3"
      }
    },
    {
      "cell_type": "code",
      "source": [
        "\n",
        "def escrever_multiplicacao(num1, num2):\n",
        "  resultado = str(num1 * num2)\n",
        "  frase = str(num1) + \" x \" + str(num2) + \" = \" + resultado\n",
        "  return frase\n",
        "\n",
        "print(escrever_multiplicacao(2, 10))\n",
        "\n"
      ],
      "metadata": {
        "colab": {
          "base_uri": "https://localhost:8080/"
        },
        "id": "tZrnCWuEeXa0",
        "outputId": "26d9e22c-4edd-4305-d04f-c5414dae28e5"
      },
      "execution_count": null,
      "outputs": [
        {
          "output_type": "stream",
          "name": "stdout",
          "text": [
            "2 x 10 = 20\n"
          ]
        }
      ]
    },
    {
      "cell_type": "code",
      "execution_count": null,
      "metadata": {
        "colab": {
          "base_uri": "https://localhost:8080/"
        },
        "id": "Qz8BBhOIX4hk",
        "outputId": "240555fc-6281-4224-aa12-c41d28d0a0ec"
      },
      "outputs": [
        {
          "output_type": "stream",
          "name": "stdout",
          "text": [
            "9 x 1 = 9\n",
            "9 x 2 = 18\n",
            "9 x 3 = 27\n",
            "9 x 4 = 36\n",
            "9 x 5 = 45\n",
            "9 x 6 = 54\n",
            "9 x 7 = 63\n",
            "9 x 8 = 72\n",
            "9 x 9 = 81\n",
            "9 x 10 = 90\n",
            "9 x 11 = 99\n",
            "9 x 12 = 108\n"
          ]
        }
      ],
      "source": [
        "for i in range(1, 13):\n",
        "  frase_atual = escrever_multiplicacao(9, i)\n",
        "  print(frase_atual)"
      ]
    },
    {
      "cell_type": "code",
      "source": [
        "def mostrarNumero():\n",
        "  print(\"Escreva um número menor que 100\")\n",
        "  numero_valido = False\n",
        "\n",
        "  while(numero_valido == False):\n",
        "    try:\n",
        "      num = int(input())\n",
        "      if(num > 100):\n",
        "        print(\"O número precisa ser menor que 100\")\n",
        "      else:\n",
        "        print(\"Boa! Você escolheu o número: \" + str(num))\n",
        "        numero_valido = True\n",
        "   except\n",
        "     print(\"Precisa digitar um número inteiro!\")\n",
        "\n",
        "mostrarNumero()"
      ],
      "metadata": {
        "colab": {
          "base_uri": "https://localhost:8080/",
          "height": 106
        },
        "id": "aLcvfVeWhlR_",
        "outputId": "ea7b1da8-5976-4a25-b67a-4809d0657ae9"
      },
      "execution_count": null,
      "outputs": [
        {
          "output_type": "error",
          "ename": "IndentationError",
          "evalue": "unindent does not match any outer indentation level (<tokenize>, line 14)",
          "traceback": [
            "\u001b[0;36m  File \u001b[0;32m\"<tokenize>\"\u001b[0;36m, line \u001b[0;32m14\u001b[0m\n\u001b[0;31m    except\u001b[0m\n\u001b[0m    ^\u001b[0m\n\u001b[0;31mIndentationError\u001b[0m\u001b[0;31m:\u001b[0m unindent does not match any outer indentation level\n"
          ]
        }
      ]
    },
    {
      "cell_type": "code",
      "source": [
        "def mostrarNumero():\n",
        "  print(\"Escreva um número menor que 100\")\n",
        "  numero_valido = False\n",
        "\n",
        "  while(numero_valido == False):\n",
        "   try:\n",
        "      num = int(input())\n",
        "      if(num > 100):\n",
        "        print(\"O número precisa ser menor que 100\")\n",
        "\n",
        "      elif (num < 0):\n",
        "        print(\"O numero precisa ser positivo maior que 0\")\n",
        "\n",
        "      elif (num%2!=0):\n",
        "        print(\"O numero precisa ser par!\")\n",
        "\n",
        "      elif (num%3!=0):\n",
        "        print(\"O numero precisa ser divisivel por 2 e 3!\")\n",
        "\n",
        "      else:\n",
        "        print(\"Boa! Você escolheu o número: \" + str(num))\n",
        "        numero_valido = True\n",
        "\n",
        "   except:\n",
        "     print(\"Precisa digitar um número inteiro!\")\n",
        "\n",
        "mostrarNumero()"
      ],
      "metadata": {
        "colab": {
          "base_uri": "https://localhost:8080/"
        },
        "id": "T0mng2k_paer",
        "outputId": "3759c6e8-2a32-409e-f98f-425a80365c41"
      },
      "execution_count": null,
      "outputs": [
        {
          "output_type": "stream",
          "name": "stdout",
          "text": [
            "Escreva um número menor que 100\n",
            "245\n",
            "O número precisa ser menor que 100\n",
            "95\n",
            "O numero precisa ser par!\n",
            "94\n",
            "O numero precisa ser divisivel por 2 e 3!\n",
            "18\n",
            "Boa! Você escolheu o número: 18\n"
          ]
        }
      ]
    },
    {
      "cell_type": "code",
      "source": [],
      "metadata": {
        "id": "W9Nz542UrfO6"
      },
      "execution_count": null,
      "outputs": []
    }
  ]
}