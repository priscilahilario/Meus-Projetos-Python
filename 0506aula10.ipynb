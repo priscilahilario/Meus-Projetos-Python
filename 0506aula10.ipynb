{
  "nbformat": 4,
  "nbformat_minor": 0,
  "metadata": {
    "colab": {
      "provenance": [],
      "authorship_tag": "ABX9TyNlb3+Z/fzNbe3CRpExwHrU",
      "include_colab_link": true
    },
    "kernelspec": {
      "name": "python3",
      "display_name": "Python 3"
    },
    "language_info": {
      "name": "python"
    }
  },
  "cells": [
    {
      "cell_type": "markdown",
      "metadata": {
        "id": "view-in-github",
        "colab_type": "text"
      },
      "source": [
        "<a href=\"https://colab.research.google.com/github/priscilahilario/Meus-Projetos-Python/blob/main/0506aula10.ipynb\" target=\"_parent\"><img src=\"https://colab.research.google.com/assets/colab-badge.svg\" alt=\"Open In Colab\"/></a>"
      ]
    },
    {
      "cell_type": "code",
      "execution_count": 6,
      "metadata": {
        "id": "u-ojASADDj8w",
        "colab": {
          "base_uri": "https://localhost:8080/"
        },
        "outputId": "851993f8-9aaf-47e3-b106-7042bd4cfb73"
      },
      "outputs": [
        {
          "output_type": "stream",
          "name": "stdout",
          "text": [
            "Entre com o lado 1: 4\n",
            "Entre com o lado 2: 5\n",
            "Entre com o lado 3:6\n",
            "Triangulo Escaleno\n"
          ]
        }
      ],
      "source": [
        "#Verificação de triangulo\n",
        "\n",
        "#3 lados iguais = equilatero\n",
        "#2 lados iguais = isoceles\n",
        "#3 lados diferentes = escaleno\n",
        "\n",
        "lado1 = input (\"Entre com o lado 1: \")\n",
        "lado2 = input (\"Entre com o lado 2: \")\n",
        "lado3 = input (\"Entre com o lado 3:\")\n",
        "\n",
        "if (lado1 == lado2 == lado3):\n",
        "  print (\"Triangulo Equilatero\")\n",
        "\n",
        "elif (lado1 != lado2 != lado3):\n",
        "    print (\"Triangulo Escaleno\")\n",
        "else:\n",
        "    print (\"Triangulo Isoceles\")\n",
        "\n",
        ""
      ]
    }
  ]
}