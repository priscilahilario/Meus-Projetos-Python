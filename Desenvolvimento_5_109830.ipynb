{
  "nbformat": 4,
  "nbformat_minor": 0,
  "metadata": {
    "colab": {
      "provenance": [],
      "authorship_tag": "ABX9TyPUfhJS1wcs41j+dQHDdpMc",
      "include_colab_link": true
    },
    "kernelspec": {
      "name": "python3",
      "display_name": "Python 3"
    },
    "language_info": {
      "name": "python"
    }
  },
  "cells": [
    {
      "cell_type": "markdown",
      "metadata": {
        "id": "view-in-github",
        "colab_type": "text"
      },
      "source": [
        "<a href=\"https://colab.research.google.com/github/priscilahilario/Meus-Projetos-Python/blob/main/Desenvolvimento_5_109830.ipynb\" target=\"_parent\"><img src=\"https://colab.research.google.com/assets/colab-badge.svg\" alt=\"Open In Colab\"/></a>"
      ]
    },
    {
      "cell_type": "code",
      "execution_count": 12,
      "metadata": {
        "colab": {
          "base_uri": "https://localhost:8080/",
          "height": 106
        },
        "id": "OSIHY2FqiBR7",
        "outputId": "846cba2c-27e2-4cda-e7e9-470bad134c04"
      },
      "outputs": [
        {
          "output_type": "error",
          "ename": "IndentationError",
          "evalue": "expected an indented block after 'elif' statement on line 34 (<ipython-input-12-14cab9669452>, line 35)",
          "traceback": [
            "\u001b[0;36m  File \u001b[0;32m\"<ipython-input-12-14cab9669452>\"\u001b[0;36m, line \u001b[0;32m35\u001b[0m\n\u001b[0;31m    print(\"Voce escolheu SUBTRAIR\")\u001b[0m\n\u001b[0m    ^\u001b[0m\n\u001b[0;31mIndentationError\u001b[0m\u001b[0;31m:\u001b[0m expected an indented block after 'elif' statement on line 34\n"
          ]
        }
      ],
      "source": [
        "def calculadora(n1, n2, oper):\n",
        "  oper = ['soma', 'subtração', 'multiplicação', 'divisão']\n",
        "  resultado = 0\n",
        "  fechar = False\n",
        "\n",
        "while (fechar == False):\n",
        "  print(\"---------------------------------\")\n",
        "  print(\"Calculadora em Python\")\n",
        "  print(\"---------------------------------\")\n",
        "  print(\"Escolha a operação a ser realizada. Digite um numero:\")\n",
        "  print(\"1. Para somar.\")\n",
        "  print(\"2. Para subtrair.\")\n",
        "  print(\"3. Para multiplicar.\")\n",
        "  print(\"4. Para dividir.\")\n",
        "  print(\"0. Para sair.\")\n",
        "  n1 = int(input(\"Digite o primeiro número: \"))\n",
        "  n2 = int(input(\"Digite o segundo número: \"))\n",
        "  print(\"---------------------------------\")\n",
        "\n",
        "  acao = input()\n",
        "\n",
        "  if(acao == '1'):\n",
        "    print(\"Voce escolheu SOMA\")\n",
        "\n",
        "    for i in range(len(oper)):\n",
        "      i = (str(oper))\n",
        "      if i == '0':\n",
        "        print(\"n1\" (str)(i), '+', \"n2\" ,oper[i])\n",
        "        resultado = n1 + n2\n",
        "        print(resultado)\n",
        "\n",
        "\n",
        "\n",
        "  elif acao == '2':\n",
        "  print(\"Voce escolheu SUBTRAIR\")\n",
        "  print(\"n1\"(str)(i) + \" - \" +  \"n2\" oper[i])\n",
        "  resultado = n1 + n2\n",
        "  print(resultado)\n",
        "\n",
        "\n",
        "  elif acao == '3'\n",
        "  print(\"Voce escolheu MULTIPLICAR\")\n",
        "  print(\"n1\"(str)(i) + \" * \" +  \"n2\" oper[i])\n",
        "  resultado = n1 * n2\n",
        "  print(resultado)\n",
        "\n",
        "  elif acao == '4'\n",
        "  print(\"Voce escolheu DIVISÃO\")\n",
        "  print(\"n1\"(str)(i) + \" / \" + \"n2\" oper[i])\n",
        "  resultado = n1 / n2\n",
        "  print(resultado)\n",
        "\n",
        "  elif (acao == \"0\"):\n",
        "  print(\"Fechando o sistema...\")\n",
        "  fechar = True\n",
        "\n",
        "else:\n",
        "print(\"Digite uma opção válida...\")\n",
        "\n",
        "\n",
        "oper = ['soma', 'subtração', 'multiplicação', 'divisão']\n",
        "resultado = calculadora"
      ]
    }
  ]
}