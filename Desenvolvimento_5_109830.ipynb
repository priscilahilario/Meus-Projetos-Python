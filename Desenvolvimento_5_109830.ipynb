{
  "nbformat": 4,
  "nbformat_minor": 0,
  "metadata": {
    "colab": {
      "provenance": [],
      "authorship_tag": "ABX9TyO02d/co2ke+IyhXMlr9VoV",
      "include_colab_link": true
    },
    "kernelspec": {
      "name": "python3",
      "display_name": "Python 3"
    },
    "language_info": {
      "name": "python"
    }
  },
  "cells": [
    {
      "cell_type": "markdown",
      "metadata": {
        "id": "view-in-github",
        "colab_type": "text"
      },
      "source": [
        "<a href=\"https://colab.research.google.com/github/priscilahilario/Meus-Projetos-Python/blob/main/Desenvolvimento_5_109830.ipynb\" target=\"_parent\"><img src=\"https://colab.research.google.com/assets/colab-badge.svg\" alt=\"Open In Colab\"/></a>"
      ]
    },
    {
      "cell_type": "code",
      "execution_count": 51,
      "metadata": {
        "colab": {
          "base_uri": "https://localhost:8080/"
        },
        "id": "OSIHY2FqiBR7",
        "outputId": "447f790e-eeb0-487f-ec41-15786a03b8f2"
      },
      "outputs": [
        {
          "output_type": "stream",
          "name": "stdout",
          "text": [
            "---------------------------------\n",
            "Calculadora em Python\n",
            "---------------------------------\n",
            "Escolha a operação a ser realizada. Digite um numero:\n",
            "1. Para somar.\n",
            "2. Para subtrair.\n",
            "3. Para multiplicar.\n",
            "4. Para dividir.\n",
            "0. Para sair.\n",
            "---------------------------------\n",
            "0\n",
            "Digite o primeiro número: 0\n",
            "Digite o segundo número: 0\n",
            "---------------------------------\n",
            "Você escolheu sair\n",
            "Obrigado por utilizar a calculadora\n",
            "---------------------------------\n"
          ]
        }
      ],
      "source": [
        "def calculadora(n1, n2, oper):\n",
        "  oper = ['soma', 'subtração', 'multiplicação', 'divisão']\n",
        "  resultado = 0\n",
        "fechar = False\n",
        "\n",
        "while (fechar == False):\n",
        "  print(\"---------------------------------\")\n",
        "  print(\"Calculadora em Python\")\n",
        "  print(\"---------------------------------\")\n",
        "  print(\"Escolha a operação a ser realizada. Digite um numero:\")\n",
        "  print(\"1. Para somar.\")\n",
        "  print(\"2. Para subtrair.\")\n",
        "  print(\"3. Para multiplicar.\")\n",
        "  print(\"4. Para dividir.\")\n",
        "  print(\"0. Para sair.\")\n",
        "\n",
        "  print(\"---------------------------------\")\n",
        "\n",
        "  acao = input()\n",
        "  n1 = int(input(\"Digite o primeiro número: \"))\n",
        "  n2 = int(input(\"Digite o segundo número: \"))\n",
        "  print(\"---------------------------------\")\n",
        "\n",
        "  if(acao == '1'):\n",
        "\n",
        "      print(\"Voce escolheu SOMA\")\n",
        "      resultado = n1 + n2\n",
        "      print(resultado)\n",
        "\n",
        "\n",
        "  elif (acao == '2'):\n",
        "    resultado = n1 - n2\n",
        "    print(resultado)\n",
        "\n",
        "\n",
        "  elif (acao == '3'):\n",
        "    resultado = n1 * n2\n",
        "    print(resultado)\n",
        "\n",
        "  elif (acao == '4'):\n",
        "    if (n1 != 0) and (n2 != 0):\n",
        "      resultado = n1 / n2\n",
        "      print(resultado)\n",
        "    else:\n",
        "      print(\"Não é possível dividir por zero\")\n",
        "\n",
        "\n",
        "  else (acao == \"0\"):\n",
        "    resultado = 0\n",
        "    fechar = True\n",
        "    print(\"Você escolheu sair\")\n",
        "    print(\"Obrigado por utilizar a calculadora\")\n",
        "    print(\"---------------------------------\")\n",
        "    break\n",
        ""
      ]
    }
  ]
}