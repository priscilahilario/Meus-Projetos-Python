{
  "nbformat": 4,
  "nbformat_minor": 0,
  "metadata": {
    "colab": {
      "provenance": [],
      "authorship_tag": "ABX9TyO600f0LcqOzJncS/dCcyUE",
      "include_colab_link": true
    },
    "kernelspec": {
      "name": "python3",
      "display_name": "Python 3"
    },
    "language_info": {
      "name": "python"
    }
  },
  "cells": [
    {
      "cell_type": "markdown",
      "metadata": {
        "id": "view-in-github",
        "colab_type": "text"
      },
      "source": [
        "<a href=\"https://colab.research.google.com/github/priscilahilario/Meus-Projetos-Python/blob/main/atvsala2705.ipynb\" target=\"_parent\"><img src=\"https://colab.research.google.com/assets/colab-badge.svg\" alt=\"Open In Colab\"/></a>"
      ]
    },
    {
      "cell_type": "markdown",
      "source": [
        "##Arrays\n"
      ],
      "metadata": {
        "id": "DUJOJUv2VQ59"
      }
    },
    {
      "cell_type": "code",
      "execution_count": 23,
      "metadata": {
        "colab": {
          "base_uri": "https://localhost:8080/"
        },
        "id": "2RzZzQhiSpgT",
        "outputId": "05413929-462b-4548-94a8-7623b211a391"
      },
      "outputs": [
        {
          "output_type": "stream",
          "name": "stdout",
          "text": [
            "Digite o nome que deseja procurar (ou 'sair' para encerrar): carol\n",
            "Não achamos o nome: 'carol'.\n",
            "Digite o nome que deseja procurar (ou 'sair' para encerrar): Sair\n",
            "Encerrando o programa...\n"
          ]
        }
      ],
      "source": [
        "def achar_elemento(elem, lista):\n",
        "    achou = False\n",
        "    for indice, nome in enumerate(lista):\n",
        "        if nome == elem:\n",
        "            achou = True\n",
        "            print(\"Achamos o nome '{}' no índice {}.\".format(elem, indice))\n",
        "            break\n",
        "    if not achou:\n",
        "        print(\"Não achamos o nome: '{}'.\".format(elem))\n",
        "\n",
        "def procurar_nome():\n",
        "    while True:\n",
        "        nome_procurado = input(\"Digite o nome que deseja procurar (ou 'sair' para encerrar): \")\n",
        "        if nome_procurado.lower() == 'sair':\n",
        "            print(\"Encerrando o programa...\")\n",
        "            break\n",
        "        achar_elemento(nome_procurado, nomes)\n",
        "\n",
        "nomes = [\"Rafael\", \"Arthur\", \"Karen\", \"Julia\"]\n",
        "\n",
        "# Chamando a função procurar_nome para iniciar a busca\n",
        "procurar_nome()"
      ]
    }
  ]
}