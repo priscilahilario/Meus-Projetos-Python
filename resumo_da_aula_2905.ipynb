{
  "nbformat": 4,
  "nbformat_minor": 0,
  "metadata": {
    "colab": {
      "provenance": [],
      "include_colab_link": true
    },
    "kernelspec": {
      "name": "python3",
      "display_name": "Python 3"
    },
    "language_info": {
      "name": "python"
    }
  },
  "cells": [
    {
      "cell_type": "markdown",
      "metadata": {
        "id": "view-in-github",
        "colab_type": "text"
      },
      "source": [
        "<a href=\"https://colab.research.google.com/github/priscilahilario/Meus-Projetos-Python/blob/main/resumo_da_aula_2905.ipynb\" target=\"_parent\"><img src=\"https://colab.research.google.com/assets/colab-badge.svg\" alt=\"Open In Colab\"/></a>"
      ]
    },
    {
      "cell_type": "markdown",
      "source": [
        "#Revisão"
      ],
      "metadata": {
        "id": "pkWopc0Ij8L9"
      }
    },
    {
      "cell_type": "code",
      "source": [
        "#atribuição de variáveis\n",
        "\n",
        "nome = \"João\"\n",
        "idade = 19\n",
        "altura = 1.75\n",
        "\n",
        "print('Nome:', nome, 'idade:', idade , 'altura:', altura)\n",
        "# ##########################################################\n",
        "\n",
        "# #operadores aritméticos\n",
        "\n",
        "soma = 10 + 5\n",
        "subtracao = 10 - 5\n",
        "multiplicacao = 10 * 5\n",
        "divisao = 10 / 5\n",
        "\n",
        "print(\"Soma:\", soma)\n",
        "print(\"Subtracao:\",subtracao)\n",
        "print(\"Multiplicação:\",multiplicacao)\n",
        "print(\"Divisão:\",divisao)\n",
        "\n",
        "#operadores de comparação\n",
        "\n",
        "igual = (10 == 5)\n",
        "diferente = (10 != 5)\n",
        "maior_que = (10 > 5)\n",
        "menor_que = (10 < 5)\n",
        "\n",
        "print(\"Igual:\", igual)\n",
        "print(\"diferente:\", diferente)\n",
        "print(\"Maior Que:\", maior_que)\n",
        "print(\"Menor Que:\", menor_que)\n",
        "\n",
        "#operadores lógicos\n",
        "\n",
        "e_logico = (10 > 5 and 5 < 10)\n",
        "ou_logico = (10 > 5 or 5 > 10)\n",
        "nao_logico = not (10 > 5)\n",
        "\n",
        "print(\"E:\", e_logico)\n",
        "print(\"Ou:\", ou_logico)\n",
        "print(\"Não:\", nao_logico)\n"
      ],
      "metadata": {
        "colab": {
          "base_uri": "https://localhost:8080/"
        },
        "id": "miAPdTFGlSmp",
        "outputId": "4ac00b35-3bff-4869-b29e-2a5ad62d0d53"
      },
      "execution_count": null,
      "outputs": [
        {
          "output_type": "stream",
          "name": "stdout",
          "text": [
            "Nome: João idade: 19 altura: 1.75\n",
            "Soma: 15\n",
            "Subtracao: 5\n",
            "Multiplicação: 50\n",
            "Divisão: 2.0\n",
            "Igual: False\n",
            "diferente: True\n",
            "Maior Que: True\n",
            "Menor Que: False\n",
            "E: True\n",
            "Ou: True\n",
            "Não: False\n"
          ]
        }
      ]
    },
    {
      "cell_type": "markdown",
      "source": [
        "#estruturas condicionais"
      ],
      "metadata": {
        "id": "Jqn9d732od0G"
      }
    },
    {
      "cell_type": "code",
      "source": [
        "#estrutura condicional simples\n",
        "\n",
        "if(idade >= 18):\n",
        "  print(\"Você é maior de idade!\")\n",
        "else:\n",
        "  print(\"Você é menor de idade!\")\n",
        "\n",
        "#estrutura condicional com multiplas condições\n",
        "\n",
        "if(idade < 12):\n",
        "  print(\"Você é uma criança!\")\n",
        "elif (12 <= idade < 18):\n",
        "  print(\"Você é um adolescente\")\n",
        "else:\n",
        "  print(\"Você é um adulto!\")"
      ],
      "metadata": {
        "colab": {
          "base_uri": "https://localhost:8080/"
        },
        "id": "idunk33wog42",
        "outputId": "94d2f82b-283f-4d81-c85e-285f110e712b"
      },
      "execution_count": null,
      "outputs": [
        {
          "output_type": "stream",
          "name": "stdout",
          "text": [
            "Você é maior de idade!\n",
            "Você é um adulto!\n"
          ]
        }
      ]
    },
    {
      "cell_type": "markdown",
      "source": [
        " Calculadora Simples:\n",
        "Crie um programa que peça ao usuário para inserir dois números e a operação desejada (+, -, *, /). O programa deve realizar a operação e imprimir o resultado."
      ],
      "metadata": {
        "id": "zMYVw6hRq0GO"
      }
    },
    {
      "cell_type": "markdown",
      "source": [
        "Verificação de Triângulo:\n",
        "Crie um programa que peça ao usuário para inserir os comprimentos dos três lados de um triângulo. O programa deve verificar se os lados podem formar um triângulo e, em caso afirmativo, indicar se o triângulo é equilátero, isósceles ou escaleno."
      ],
      "metadata": {
        "id": "m5JQS3QNq38r"
      }
    },
    {
      "cell_type": "markdown",
      "source": [
        "#Estrutura de repeticao"
      ],
      "metadata": {
        "id": "A5gqI0urzUPW"
      }
    },
    {
      "cell_type": "code",
      "source": [
        "#iterando uma lista\n",
        "\n",
        "nomes = [\"Ana\", \"Carlos\", \"Beatriz\"]\n",
        "# for nome in nomes:\n",
        "#   print(nomes)\n",
        "\n",
        "for i in range(3):\n",
        "  print(i)"
      ],
      "metadata": {
        "colab": {
          "base_uri": "https://localhost:8080/"
        },
        "id": "yBw7F5RJzXKH",
        "outputId": "aef21b6b-968c-4de1-d2b0-88d8709d6ce7"
      },
      "execution_count": null,
      "outputs": [
        {
          "output_type": "stream",
          "name": "stdout",
          "text": [
            "0\n",
            "1\n",
            "2\n"
          ]
        }
      ]
    },
    {
      "cell_type": "code",
      "source": [
        "#while\n",
        "#Contagem Regressiva\n",
        "\n",
        "contador = 10\n",
        "while contador > 0:\n",
        "  print(contador)\n",
        "  contador -= 1\n",
        "\n",
        "print('Fogo!!!')\n"
      ],
      "metadata": {
        "colab": {
          "base_uri": "https://localhost:8080/"
        },
        "id": "dTUug6acz_e4",
        "outputId": "d367f718-674c-48ca-f2db-5cab3b81751a"
      },
      "execution_count": null,
      "outputs": [
        {
          "output_type": "stream",
          "name": "stdout",
          "text": [
            "10\n",
            "9\n",
            "8\n",
            "7\n",
            "6\n",
            "5\n",
            "4\n",
            "3\n",
            "2\n",
            "1\n",
            "Fogo!!!\n"
          ]
        }
      ]
    },
    {
      "cell_type": "markdown",
      "source": [
        "#Funções"
      ],
      "metadata": {
        "id": "SLppqzo00rr0"
      }
    },
    {
      "cell_type": "code",
      "source": [
        "#definir uma funcao\n",
        "\n",
        "def saudacao(nome):\n",
        "  return f\"Olá, {nome}!\"\n",
        "\n",
        "print(saudacao('Odara'))"
      ],
      "metadata": {
        "colab": {
          "base_uri": "https://localhost:8080/"
        },
        "id": "jxBXSlDL0t5L",
        "outputId": "1b0ae753-6e53-4307-cf30-04e4558308c5"
      },
      "execution_count": null,
      "outputs": [
        {
          "output_type": "stream",
          "name": "stdout",
          "text": [
            "Olá, Odara!\n"
          ]
        }
      ]
    },
    {
      "cell_type": "markdown",
      "source": [
        "Fatorial:\n",
        "Crie uma função que calcule o fatorial de um número. Utilize uma estrutura de repetição para realizar o cálculo. Teste a função com diferentes valores."
      ],
      "metadata": {
        "id": "zFV2_g4k1MVY"
      }
    },
    {
      "cell_type": "markdown",
      "source": [
        "Números Primos:\n",
        "Crie uma função que verifique se um número é primo. Em seguida, utilize uma estrutura de repetição para encontrar todos os números primos entre 1 e 100.\n",
        "\n"
      ],
      "metadata": {
        "id": "huwbCgMn1coj"
      }
    }
  ]
}