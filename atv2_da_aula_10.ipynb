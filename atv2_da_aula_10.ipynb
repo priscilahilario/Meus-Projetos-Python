{
  "nbformat": 4,
  "nbformat_minor": 0,
  "metadata": {
    "colab": {
      "provenance": [],
      "authorship_tag": "ABX9TyN1QG/YWP+LvXH/6Vi2+FPa",
      "include_colab_link": true
    },
    "kernelspec": {
      "name": "python3",
      "display_name": "Python 3"
    },
    "language_info": {
      "name": "python"
    }
  },
  "cells": [
    {
      "cell_type": "markdown",
      "metadata": {
        "id": "view-in-github",
        "colab_type": "text"
      },
      "source": [
        "<a href=\"https://colab.research.google.com/github/priscilahilario/Meus-Projetos-Python/blob/main/atv2_da_aula_10.ipynb\" target=\"_parent\"><img src=\"https://colab.research.google.com/assets/colab-badge.svg\" alt=\"Open In Colab\"/></a>"
      ]
    },
    {
      "cell_type": "markdown",
      "source": [
        "**FATORIAL DE UM NUMERO**"
      ],
      "metadata": {
        "id": "-HHg21ykikGz"
      }
    },
    {
      "cell_type": "code",
      "execution_count": null,
      "metadata": {
        "id": "hg-E13TYiPF8"
      },
      "outputs": [],
      "source": [
        "\n",
        "#Fatorial: Resultado de uma operação onde os números dentro do\n",
        "#número fatorial são multiplicados em ordem decrescente até o número 1.\n",
        "\n",
        "\n",
        "\n",
        "numero = int(input(\"Informe um número: \"))\n",
        "fatorial = 1\n",
        "\n",
        "for fator in range(1,numero+1):\n",
        "  fatorial = fatorial * fator\n",
        "\n",
        "print(\"Fatorial \",numero,\"! = \",fatorial)"
      ]
    }
  ]
}