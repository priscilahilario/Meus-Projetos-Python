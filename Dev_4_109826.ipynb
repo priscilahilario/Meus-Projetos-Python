{
  "nbformat": 4,
  "nbformat_minor": 0,
  "metadata": {
    "colab": {
      "provenance": [],
      "authorship_tag": "ABX9TyPNOwq9Y2O/6J0WFLYcT+4B",
      "include_colab_link": true
    },
    "kernelspec": {
      "name": "python3",
      "display_name": "Python 3"
    },
    "language_info": {
      "name": "python"
    }
  },
  "cells": [
    {
      "cell_type": "markdown",
      "metadata": {
        "id": "view-in-github",
        "colab_type": "text"
      },
      "source": [
        "<a href=\"https://colab.research.google.com/github/priscilahilario/Meus-Projetos-Python/blob/main/Dev_4_109826.ipynb\" target=\"_parent\"><img src=\"https://colab.research.google.com/assets/colab-badge.svg\" alt=\"Open In Colab\"/></a>"
      ]
    },
    {
      "cell_type": "code",
      "execution_count": 33,
      "metadata": {
        "colab": {
          "base_uri": "https://localhost:8080/",
          "height": 106
        },
        "id": "XVVV4ok5mYKy",
        "outputId": "e2a6babc-0f16-4240-88e5-c0b6fd7fe908"
      },
      "outputs": [
        {
          "output_type": "error",
          "ename": "IndentationError",
          "evalue": "expected an indented block after 'if' statement on line 14 (<ipython-input-33-cba86a8a205f>, line 15)",
          "traceback": [
            "\u001b[0;36m  File \u001b[0;32m\"<ipython-input-33-cba86a8a205f>\"\u001b[0;36m, line \u001b[0;32m15\u001b[0m\n\u001b[0;31m    print(\"Voce escolheu SOMA\")\u001b[0m\n\u001b[0m    ^\u001b[0m\n\u001b[0;31mIndentationError\u001b[0m\u001b[0;31m:\u001b[0m expected an indented block after 'if' statement on line 14\n"
          ]
        }
      ],
      "source": [
        "def calculadoraOperacao (n1, n2, oper):\n",
        "\n",
        "  fechar == False\n",
        "\n",
        "  while (fechar == False):\n",
        "    print(\"Escolha a operação a ser realizada. Digite um numero:\")\n",
        "    print(\"1. Para somar.\")\n",
        "    print(\"2. Para subtrair.\")\n",
        "    print(\"4. Para dividir.\")\n",
        "    print(\"3. Para multiplicar.\")\n",
        "\n",
        "    acao = input()\n",
        "\n",
        "    if(acao == '1'):\n",
        "    print(\"Voce escolheu SOMA\")\n",
        "\n",
        "      for i in range(len(oper)):\n",
        "        print(\"n1\"(str)(i) + \" + \" + \"n2\" oper[i])\n",
        "\n",
        "    elif acao == '2':\n",
        "\t  print(\"Voce escolheu SUBTRAIR\")\n",
        "    print(\"n1\"(str)(i) + \" - \" + \"n2\" oper[i])\n",
        "\n",
        "\t  elif acao == '3'\n",
        "    print(\"Voce escolheu MULTIPLICAR\")\n",
        "    print(\"n1\"(str)(i) + \" * \" + \"n2\" oper[i])\n",
        "\n",
        "    elif acao == '4'\n",
        "    print(\"Voce escolheu DIVISÃO\")\n",
        "    print(\"n1\"(str)(i) + \" / \" + \"n2\" oper[i])\n",
        "\n",
        "else:\n",
        "print(\"Por favor informe um código válido\")\n",
        "\n",
        "\n",
        "oper = ['+', '-', '*', '/']\n",
        "calculadoraOperacao(oper)\n"
      ]
    }
  ]
}